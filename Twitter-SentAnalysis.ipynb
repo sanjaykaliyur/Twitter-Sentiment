{
 "cells": [
  {
   "cell_type": "code",
   "execution_count": 1,
   "metadata": {},
   "outputs": [
    {
     "name": "stdout",
     "output_type": "stream",
     "text": [
      "Requirement already satisfied: tweepy in /gpfs/global_fs01/sym_shared/YPProdSpark/user/sc9f-18d6b25ff84f00-0e3c8fa56384/.local/lib/python2.7/site-packages\n",
      "Requirement already satisfied: six>=1.7.3 in /usr/local/src/bluemix_jupyter_bundle.v54/notebook/lib/python2.7/site-packages (from tweepy)\n",
      "Requirement already satisfied: requests>=2.4.3 in /usr/local/src/bluemix_jupyter_bundle.v54/notebook/lib/python2.7/site-packages (from tweepy)\n",
      "Requirement already satisfied: requests-oauthlib>=0.4.1 in /gpfs/global_fs01/sym_shared/YPProdSpark/user/sc9f-18d6b25ff84f00-0e3c8fa56384/.local/lib/python2.7/site-packages (from tweepy)\n",
      "Requirement already satisfied: oauthlib>=0.6.2 in /gpfs/global_fs01/sym_shared/YPProdSpark/user/sc9f-18d6b25ff84f00-0e3c8fa56384/.local/lib/python2.7/site-packages (from requests-oauthlib>=0.4.1->tweepy)\n"
     ]
    }
   ],
   "source": [
    "!pip install tweepy"
   ]
  },
  {
   "cell_type": "code",
   "execution_count": 2,
   "metadata": {},
   "outputs": [
    {
     "name": "stdout",
     "output_type": "stream",
     "text": [
      "Requirement already up-to-date: textblob in /gpfs/global_fs01/sym_shared/YPProdSpark/user/sc9f-18d6b25ff84f00-0e3c8fa56384/.local/lib/python2.7/site-packages\n",
      "Requirement already up-to-date: nltk>=3.1 in /gpfs/global_fs01/sym_shared/YPProdSpark/user/sc9f-18d6b25ff84f00-0e3c8fa56384/.local/lib/python2.7/site-packages (from textblob)\n",
      "Requirement already up-to-date: six in /usr/local/src/bluemix_jupyter_bundle.v54/notebook/lib/python2.7/site-packages (from nltk>=3.1->textblob)\n",
      "[nltk_data] Downloading package brown to /gpfs/fs01/user/sc9f-\n",
      "[nltk_data]     18d6b25ff84f00-0e3c8fa56384/nltk_data...\n",
      "[nltk_data]   Package brown is already up-to-date!\n",
      "[nltk_data] Downloading package punkt to /gpfs/fs01/user/sc9f-\n",
      "[nltk_data]     18d6b25ff84f00-0e3c8fa56384/nltk_data...\n",
      "[nltk_data]   Package punkt is already up-to-date!\n",
      "[nltk_data] Downloading package wordnet to /gpfs/fs01/user/sc9f-\n",
      "[nltk_data]     18d6b25ff84f00-0e3c8fa56384/nltk_data...\n",
      "[nltk_data]   Package wordnet is already up-to-date!\n",
      "[nltk_data] Downloading package averaged_perceptron_tagger to\n",
      "[nltk_data]     /gpfs/fs01/user/sc9f-\n",
      "[nltk_data]     18d6b25ff84f00-0e3c8fa56384/nltk_data...\n",
      "[nltk_data]   Package averaged_perceptron_tagger is already up-to-\n",
      "[nltk_data]       date!\n",
      "[nltk_data] Downloading package conll2000 to /gpfs/fs01/user/sc9f-\n",
      "[nltk_data]     18d6b25ff84f00-0e3c8fa56384/nltk_data...\n",
      "[nltk_data]   Package conll2000 is already up-to-date!\n",
      "[nltk_data] Downloading package movie_reviews to /gpfs/fs01/user/sc9f-\n",
      "[nltk_data]     18d6b25ff84f00-0e3c8fa56384/nltk_data...\n",
      "[nltk_data]   Package movie_reviews is already up-to-date!\n",
      "Finished.\n"
     ]
    }
   ],
   "source": [
    "!pip install -U textblob\n",
    "!python -m textblob.download_corpora"
   ]
  },
  {
   "cell_type": "code",
   "execution_count": 3,
   "metadata": {
    "collapsed": true
   },
   "outputs": [],
   "source": [
    "import tweepy\n",
    "from textblob import TextBlob"
   ]
  },
  {
   "cell_type": "markdown",
   "metadata": {},
   "source": [
    "The following information is available on [dev.twitter.com](https://dev.twitter.com)"
   ]
  },
  {
   "cell_type": "code",
   "execution_count": 4,
   "metadata": {
    "collapsed": true
   },
   "outputs": [],
   "source": [
    "consumer_key = ''\n",
    "consumer_secret = ''\n",
    "access_token = ''\n",
    "access_token_secret = ''\n",
    "auth = tweepy.OAuthHandler(consumer_key, consumer_secret)\n",
    "auth.set_access_token(access_token, access_token_secret)\n",
    "user = tweepy.API(auth)"
   ]
  },
  {
   "cell_type": "code",
   "execution_count": 5,
   "metadata": {
    "collapsed": true
   },
   "outputs": [],
   "source": [
    "def sentiment(subject, num_tweets):\n",
    "    # Checks if the sentiment for our quote is\n",
    "    # positive or negative, returns True if\n",
    "    # majority of valid tweets have positive sentiment\n",
    "    list_of_tweets = user.search(subject, count=num_tweets)\n",
    "    positive, null = 0, 0\n",
    "\n",
    "    for tweet in list_of_tweets:\n",
    "        blob = TextBlob(tweet.text).sentiment\n",
    "        if blob.subjectivity == 0:\n",
    "            null += 1\n",
    "            next\n",
    "        if blob.polarity > 0:\n",
    "            positive += 1\n",
    "\n",
    "    if positive > ((num_tweets - null)/2):\n",
    "        return True"
   ]
  },
  {
   "cell_type": "code",
   "execution_count": 6,
   "metadata": {},
   "outputs": [
    {
     "name": "stdout",
     "output_type": "stream",
     "text": [
      "Enter the subject for which you wish to perform sentiment analysis on: john urschel\n"
     ]
    }
   ],
   "source": [
    "# Ask user for a subject to perform sentiment analysis on\n",
    "subject = raw_input('Enter the subject for which you wish to perform sentiment analysis on: ')"
   ]
  },
  {
   "cell_type": "code",
   "execution_count": 7,
   "metadata": {},
   "outputs": [
    {
     "name": "stdout",
     "output_type": "stream",
     "text": [
      "How many tweets should I look through to determine the sentiment about john urschel? 100\n"
     ]
    }
   ],
   "source": [
    "num_tweets = int(input('How many tweets should I look through to determine the sentiment about %s? ' % (subject)))"
   ]
  },
  {
   "cell_type": "code",
   "execution_count": 8,
   "metadata": {},
   "outputs": [
    {
     "name": "stdout",
     "output_type": "stream",
     "text": [
      "john urschel has good sentiment on Twitter.\n"
     ]
    }
   ],
   "source": [
    "if sentiment(subject, num_tweets):\n",
    "    print \"%s has good sentiment on Twitter.\" % (subject)\n",
    "    \n",
    "if not sentiment(subject, num_tweets):\n",
    "    print \"%s has bad sentiment on Twitter.\" % (subject)"
   ]
  },
  {
   "cell_type": "code",
   "execution_count": null,
   "metadata": {
    "collapsed": true
   },
   "outputs": [],
   "source": []
  }
 ],
 "metadata": {
  "kernelspec": {
   "display_name": "Python 2 with Spark 2.0",
   "language": "python",
   "name": "python2-spark20"
  },
  "language_info": {
   "codemirror_mode": {
    "name": "ipython",
    "version": 2
   },
   "file_extension": ".py",
   "mimetype": "text/x-python",
   "name": "python",
   "nbconvert_exporter": "python",
   "pygments_lexer": "ipython2",
   "version": "2.7.11"
  }
 },
 "nbformat": 4,
 "nbformat_minor": 1
}
